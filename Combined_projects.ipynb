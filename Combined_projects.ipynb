{
 "cells": [
  {
   "cell_type": "markdown",
   "id": "824cfd88",
   "metadata": {},
   "source": [
    "# project 1"
   ]
  },
  {
   "cell_type": "code",
   "execution_count": null,
   "id": "bef8b8c0",
   "metadata": {},
   "outputs": [],
   "source": [
    "def Calculator():\n",
    "    import re\n",
    "    '''project 1 Calculator'''\n",
    "    print(\"CALCULATOR is opened\")\n",
    "    print(\"CTRL + C for exit\")\n",
    "    while True:\n",
    "        expression = input(\"Enter the expression\\n:\")\n",
    "        template = re.compile(r\"[0-9A-Za-z+\\-*/() ]+\")\n",
    "        try:\n",
    "            result = template.fullmatch(expression)\n",
    "            final_result = eval(f\"{result.group()}\")\n",
    "            print(f\"Final result is: {final_result}\")\n",
    "        except:\n",
    "            print(\"invalid expression\")\n",
    "            continue\n"
   ]
  },
  {
   "cell_type": "markdown",
   "id": "ddd53e80",
   "metadata": {},
   "source": [
    "🧮 Project 1: Simple Arithmetic Calculator\n",
    "📌 Description\n",
    "This is a beginner-friendly command-line calculator that takes user input in the form of a math expression (e.g., 2 + 3 * (4 - 1)) and evaluates the result in real time. It supports basic arithmetic operations like addition, subtraction, multiplication, and division.\n",
    "\n",
    "🚀 Features\n",
    "Accepts full arithmetic expressions\n",
    "\n",
    "Supports parentheses\n",
    "\n",
    "Provides real-time results\n",
    "\n",
    "Handles invalid inputs gracefully\n",
    "\n",
    "Runs in a loop until manually stopped\n",
    "\n",
    "🧠 Concepts Practiced\n",
    "while loops\n",
    "\n",
    "try/except error handling\n",
    "\n",
    "Regular expressions for input validation\n",
    "\n",
    "The eval() function to evaluate expressions\n",
    "\n",
    "Basic user input and output\n",
    "\n",
    "🔐 Safety Note\n",
    "This project uses Python’s built-in eval() function, which is not safe for untrusted input. In real-world applications, use a math parser or expression evaluator instead.\n",
    "\n",
    "▶️ How to Use\n",
    "Run the program.\n",
    "\n",
    "Type any valid math expression (e.g., 5 + 10 / (2 * 3)).\n",
    "\n",
    "View the result.\n",
    "\n",
    "Press Ctrl + C to exit the calculator.\n",
    "\n",
    "🛠 Possible Improvements\n",
    "Add support for variables (x = 3, then x + 5)\n",
    "\n",
    "Log previous calculations (history)\n",
    "\n",
    "Create a GUI version using tkinter or PyQt\n",
    "\n",
    "Replace eval() with a safe math parser"
   ]
  },
  {
   "cell_type": "code",
   "execution_count": null,
   "id": "d77d70e2",
   "metadata": {},
   "outputs": [],
   "source": [
    "def weight_converter():\n",
    "    pass\n"
   ]
  }
 ],
 "metadata": {
  "kernelspec": {
   "display_name": "base",
   "language": "python",
   "name": "python3"
  },
  "language_info": {
   "codemirror_mode": {
    "name": "ipython",
    "version": 3
   },
   "file_extension": ".py",
   "mimetype": "text/x-python",
   "name": "python",
   "nbconvert_exporter": "python",
   "pygments_lexer": "ipython3",
   "version": "3.8.12"
  }
 },
 "nbformat": 4,
 "nbformat_minor": 5
}
