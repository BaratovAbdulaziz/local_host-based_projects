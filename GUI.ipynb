{
 "cells": [
  {
   "cell_type": "code",
   "execution_count": null,
   "id": "83f5e366",
   "metadata": {},
   "outputs": [],
   "source": [
    "from tkinter import *\n",
    "def first_gui():\n",
    "    root = Tk()\n",
    "    Label = Label(root,text=\"Hello, World\")\n",
    "    Label.pack()\n",
    "    root.mainloop()"
   ]
  },
  {
   "cell_type": "code",
   "execution_count": 1,
   "id": "1c23c99c",
   "metadata": {},
   "outputs": [],
   "source": [
    "from tkinter import Tk, Label, Button\n",
    "\n",
    "def grid_system():\n",
    "    root = Tk()\n",
    "    \n",
    "    needed_label = Label(root, text=\"KeyError\")\n",
    "    needed_label.grid(column=1, row=1)\n",
    "\n",
    "    mybutton = Button(root, text=\"OK\")\n",
    "    mybutton.grid(column=3, row=2)\n",
    "\n",
    "    root.mainloop()\n",
    "\n",
    "grid_system()\n"
   ]
  },
  {
   "cell_type": "code",
   "execution_count": 10,
   "id": "a4662021",
   "metadata": {},
   "outputs": [],
   "source": [
    "def buttons():\n",
    "    status = 0\n",
    "    root = Tk()\n",
    "    def action():\n",
    "        nonlocal status\n",
    "        action_label = Label(root,text=f\"{status}\").pack()\n",
    "        status += 1\n",
    "    \n",
    "    main_Label = Label(root,pady=25,padx=20,fg=\"blue\",text=\"WELCOME!\").pack()\n",
    "\n",
    "    main_Button = Button(root,command=action,fg=\"red\",bg=\"yellow\",text=\"+1\").pack()\n",
    "\n",
    "    root.mainloop()\n",
    "buttons()"
   ]
  }
 ],
 "metadata": {
  "kernelspec": {
   "display_name": "base",
   "language": "python",
   "name": "python3"
  },
  "language_info": {
   "codemirror_mode": {
    "name": "ipython",
    "version": 3
   },
   "file_extension": ".py",
   "mimetype": "text/x-python",
   "name": "python",
   "nbconvert_exporter": "python",
   "pygments_lexer": "ipython3",
   "version": "3.8.12"
  }
 },
 "nbformat": 4,
 "nbformat_minor": 5
}
